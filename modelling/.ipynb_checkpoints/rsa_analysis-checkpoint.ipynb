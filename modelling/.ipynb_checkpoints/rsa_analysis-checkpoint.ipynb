{
 "cells": [
  {
   "cell_type": "code",
   "execution_count": 2,
   "id": "11b5079c-bb88-4f3b-a29b-1944e3d6c9cc",
   "metadata": {},
   "outputs": [],
   "source": [
    "import statsmodels.api as sm\n",
    "import numpy as np\n",
    "import pandas as pd\n",
    "\n",
    "import pdb\n",
    "import os\n",
    "import matplotlib.pyplot as plt\n",
    "import seaborn as sns\n",
    "\n",
    "curr_dir = 'C:/Users/vayze/Desktop/GitHub_Repos/ma-mri'\n",
    "curr_dir = '/home/vayzenbe/GitHub_Repos/docnet/'"
   ]
  },
  {
   "cell_type": "code",
   "execution_count": 13,
   "id": "a7772642-1ced-4ca5-aef4-cf23ff193569",
   "metadata": {},
   "outputs": [
    {
     "name": "stderr",
     "output_type": "stream",
     "text": [
      "/home/vayzenbe/anaconda3/lib/python3.7/site-packages/ipykernel_launcher.py:9: FutureWarning: Dropping of nuisance columns in DataFrame reductions (with 'numeric_only=None') is deprecated; in a future version this will raise TypeError.  Select only valid columns before calling the reduction.\n",
      "  if __name__ == '__main__':\n"
     ]
    }
   ],
   "source": [
    "rois = ['lLO_toolloc', 'lPFS_toolloc', 'rLO_toolloc', 'rPFS_toolloc','rPPC_spaceloc', 'rAPC_spaceloc']\n",
    "rois = ['PPC_spaceloc', 'APC_spaceloc', 'LO_toolloc', 'PFS_toolloc']\n",
    "roi_names = ['PPC', 'APC','LO', 'PFS']\n",
    "\n",
    "models = ['skel', 'cornet_s', 'gbj']\n",
    "\n",
    "rdms = pd.read_csv(f'{curr_dir}/modelling/rdms/all_rdms.csv')\n",
    "\n",
    "rdms = (rdms-rdms.mean())/rdms.std()\n",
    "                \n",
    "iter_num = 10"
   ]
  },
  {
   "cell_type": "code",
   "execution_count": null,
   "id": "8297c80d-8a04-4b54-8fa1-fb0fc0ea2914",
   "metadata": {},
   "outputs": [],
   "source": [
    "def calc_rsa(roi, model_data, covs):\n",
    "    # Pull out the data\n",
    "    \n",
    "    X = rdm[covs]\n",
    "    y = roi\n",
    "    model = sm.OLS(y, X).fit()\n",
    "\n",
    "    \n",
    "    return model.params, model.pvalues"
   ]
  },
  {
   "cell_type": "code",
   "execution_count": 10,
   "id": "f3af4d05-8431-40c1-86df-b80a64c4c130",
   "metadata": {},
   "outputs": [],
   "source": [
    "lr = 'r'\n",
    "rr = 'APC_spaceloc'\n",
    "for rr in rois:\n",
    "    for lr in ['l', 'r']:\n",
    "        mean_beta,p_val = calc_rsa(rdms[f'{lr}{rr}'],rdms,models)\n",
    "        \n",
    "        temp_beta = []\n",
    "        for itn in range(0,iter_num):\n",
    "            temp_rdm = rdms[f'{lr}{rr}'].sample(frac = 1, replace = True)\n",
    "            temp_beta, temp_p = calc_rsa(temp_rdm,rdms,models)\n",
    "                                        \n",
    "                                        \n",
    "        "
   ]
  },
  {
   "cell_type": "code",
   "execution_count": 17,
   "id": "c72ecbe4-5be5-40a8-a392-bd4d3e71601f",
   "metadata": {},
   "outputs": [],
   "source": [
    "lr = 'r'\n",
    "rr = 'APC_spaceloc'\n",
    "temp_rdm = rdms[f'{lr}{rr}'].sample(frac = 1, replace = True)"
   ]
  },
  {
   "cell_type": "code",
   "execution_count": 18,
   "id": "f9dee995-0673-4873-868e-ca660bd3c826",
   "metadata": {},
   "outputs": [
    {
     "data": {
      "text/plain": [
       "108    0.951908\n",
       "155    0.557901\n",
       "152   -0.061268\n",
       "265   -1.600217\n",
       "71    -1.584540\n",
       "         ...   \n",
       "261   -2.053389\n",
       "83     1.471191\n",
       "92    -0.238132\n",
       "73    -0.900139\n",
       "147   -1.038192\n",
       "Name: rAPC_spaceloc, Length: 300, dtype: float64"
      ]
     },
     "execution_count": 18,
     "metadata": {},
     "output_type": "execute_result"
    }
   ],
   "source": [
    "temp_rdm"
   ]
  },
  {
   "cell_type": "code",
   "execution_count": null,
   "id": "ca157d6d-362c-49d7-8a79-87f50bf7808d",
   "metadata": {},
   "outputs": [],
   "source": []
  }
 ],
 "metadata": {
  "kernelspec": {
   "display_name": "Python 3",
   "language": "python",
   "name": "python3"
  },
  "language_info": {
   "codemirror_mode": {
    "name": "ipython",
    "version": 3
   },
   "file_extension": ".py",
   "mimetype": "text/x-python",
   "name": "python",
   "nbconvert_exporter": "python",
   "pygments_lexer": "ipython3",
   "version": "3.7.11"
  }
 },
 "nbformat": 4,
 "nbformat_minor": 5
}
