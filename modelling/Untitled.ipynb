{
 "cells": [
  {
   "cell_type": "code",
   "execution_count": 2,
   "id": "f1590381-da54-4eb8-abb9-7554e775e109",
   "metadata": {},
   "outputs": [],
   "source": [
    "\n",
    "'''\n",
    "Decode a left-out object category from MVPA data\n",
    "'''\n",
    "\n",
    "import sys\n",
    "from sklearn import svm\n",
    "import numpy as np\n",
    "import pdb\n",
    "import os\n",
    "from sklearn.model_selection import RepeatedStratifiedKFold\n",
    "from sklearn.model_selection import StratifiedShuffleSplit\n",
    "from sklearn.pipeline import make_pipeline\n",
    "from sklearn.preprocessing import StandardScaler\n",
    "from sklearn.svm import SVC\n",
    "import pandas as pd\n",
    "\n",
    "#subj_list=[\"docnet2001\", \"docnet2002\",\"docnet2003\",\"docnet2005\", \"docnet2007\",\"docnet2008\", \"docnet2012\"]\n",
    "subj_list=[\"docnet2001\", \"docnet2002\",\"docnet2003\",\"docnet2004\", \"docnet2005\", \"docnet2007\",\"docnet2008\", \"docnet2012\"]\n",
    "\n",
    "#anatomical ROI\n",
    "d_roi = ['LOC','PPC_spaceloc', 'APC_spaceloc', 'PPC_depthloc', 'APC_depthloc', 'PPC_distloc',  'APC_distloc', 'PPC_toolloc', 'APC_toolloc']\n",
    "v_roi = ['LO_toolloc', 'PFS_toolloc']\n",
    "\n",
    "svm_test_size = .2\n",
    "svm_splits = 20\n",
    "\n",
    "exp_cond = [ 'boat_1', 'boat_2', 'boat_3', 'boat_4', 'boat_5',\n",
    "'camera_1', 'camera_2', 'camera_3', 'camera_4', 'camera_5',\n",
    "'car_1', 'car_2', 'car_3', 'car_4', 'car_5',\n",
    "'guitar_1', 'guitar_2', 'guitar_3', 'guitar_4', 'guitar_5', \n",
    "'lamp_1', 'lamp_2', 'lamp_3', 'lamp_4', 'lamp_5']\n",
    "\n",
    "exp_cats = ['boat', 'camera',' car', 'guitar','lamp']\n",
    "\n",
    "#create a list of labels for classification\n",
    "exp_labels = np.concatenate((np.ones((1,5)),np.ones((1,5))*2, np.ones((1,5))*3, np.ones((1,5))*4, np.ones((1,5))*5),axis =1)[0]\n",
    "\n",
    "data_dir = 'derivatives/results/beta/catmvpa'\n",
    "\n",
    "n_vox = 100\n",
    "\n",
    "#iteratively combine LO and PFS with one of the dorsal ROIS (or on its own)\n",
    "\n",
    "#do cross-val SVM seperately for each sub\n",
    "#combine across subs\n",
    "\n"
   ]
  },
  {
   "cell_type": "code",
   "execution_count": 3,
   "id": "f413e42b-ae7b-45fa-bb89-5b7efc9c744b",
   "metadata": {},
   "outputs": [
    {
     "name": "stdout",
     "output_type": "stream",
     "text": [
      "> <ipython-input-3-f130ca748a38>(12)<module>()\n",
      "-> for ecn, ec in enumerate(exp_cond):\n"
     ]
    },
    {
     "name": "stdin",
     "output_type": "stream",
     "text": [
      "(Pdb)  temp_data\n"
     ]
    },
    {
     "name": "stdout",
     "output_type": "stream",
     "text": [
      "array([  49.519207  ,   85.53720856,    8.91053104,   80.11985016,\n",
      "        103.7671509 ,  147.5159454 ,  110.5135651 ,  -47.56527328,\n",
      "        119.3175049 ,   47.82964325,   40.48798752,  318.2810669 ,\n",
      "        -14.27411652,   99.63816071,   20.84762001,   -1.87887836,\n",
      "        256.4873657 ,  -57.646698  ,  -62.80003738,  121.0132523 ,\n",
      "        326.4919434 ,    7.42505646,   -4.55961275,   92.61785889,\n",
      "        231.131546  ,  284.1025085 ,   90.91123962,   58.33722687,\n",
      "         40.67179871,   51.74970627,   85.5266571 ,  179.4570007 ,\n",
      "        219.9736481 ,  114.8216629 ,   54.87877655,  -25.91295624,\n",
      "        -21.3564949 ,   65.12554169,  161.3878021 ,  135.6888123 ,\n",
      "        114.0192719 ,   70.5951004 ,  -34.90754318, -129.0218811 ,\n",
      "        -23.54261398,   59.54552841,  163.3265533 ,  138.7845764 ,\n",
      "         97.19470215,   -9.46621609,  -95.83081055,  -91.74768829,\n",
      "         50.01110458,   14.86655331,   11.8699007 ,  118.9995651 ,\n",
      "         63.80596161,    6.96163368,  -37.43516541,  -48.32495117,\n",
      "         37.00422668,    6.97198534,  -27.41760254,   89.27126312,\n",
      "        -74.5639801 ,   55.80805969,   85.28670502,   88.34403992,\n",
      "         78.93754578,   93.70066071,   52.06869125,   47.74340439,\n",
      "         91.44148254,  154.4896545 ,   76.63715363,  -16.37426186,\n",
      "         98.85461426,  223.4209442 ,   46.09640884,  125.1857071 ,\n",
      "        213.5049591 ,  321.0216675 ,  246.1946411 ,  158.8127899 ,\n",
      "        159.5756989 ,  164.3124237 ,  172.2485809 ,  167.0787048 ,\n",
      "        189.0852661 ,  250.8563843 ,  243.1988068 ,  194.7429504 ,\n",
      "        107.1099548 ,  134.9842987 ,  188.5015411 ,  224.9769592 ,\n",
      "         95.91870117,   82.01060486,   43.46076202,    2.1497457 ])\n"
     ]
    },
    {
     "name": "stdin",
     "output_type": "stream",
     "text": [
      "(Pdb)  len(temp_data)\n"
     ]
    },
    {
     "name": "stdout",
     "output_type": "stream",
     "text": [
      "100\n"
     ]
    },
    {
     "name": "stdin",
     "output_type": "stream",
     "text": [
      "(Pdb)  exit\n"
     ]
    },
    {
     "ename": "BdbQuit",
     "evalue": "",
     "output_type": "error",
     "traceback": [
      "\u001b[0;31m---------------------------------------------------------------------------\u001b[0m",
      "\u001b[0;31mBdbQuit\u001b[0m                                   Traceback (most recent call last)",
      "\u001b[0;32m<ipython-input-3-f130ca748a38>\u001b[0m in \u001b[0;36m<module>\u001b[0;34m\u001b[0m\n\u001b[1;32m     10\u001b[0m         \u001b[0;32mfor\u001b[0m \u001b[0mlr\u001b[0m \u001b[0;32min\u001b[0m \u001b[0;34m[\u001b[0m\u001b[0;34m'l'\u001b[0m\u001b[0;34m,\u001b[0m\u001b[0;34m'r'\u001b[0m\u001b[0;34m]\u001b[0m\u001b[0;34m:\u001b[0m\u001b[0;34m\u001b[0m\u001b[0;34m\u001b[0m\u001b[0m\n\u001b[1;32m     11\u001b[0m             \u001b[0mroi_data\u001b[0m \u001b[0;34m=\u001b[0m \u001b[0mnp\u001b[0m\u001b[0;34m.\u001b[0m\u001b[0mzeros\u001b[0m\u001b[0;34m(\u001b[0m\u001b[0;34m(\u001b[0m\u001b[0mlen\u001b[0m\u001b[0;34m(\u001b[0m\u001b[0mexp_cond\u001b[0m\u001b[0;34m)\u001b[0m\u001b[0;34m,\u001b[0m \u001b[0mn_vox\u001b[0m\u001b[0;34m)\u001b[0m\u001b[0;34m)\u001b[0m\u001b[0;34m\u001b[0m\u001b[0;34m\u001b[0m\u001b[0m\n\u001b[0;32m---> 12\u001b[0;31m             \u001b[0;32mfor\u001b[0m \u001b[0mecn\u001b[0m\u001b[0;34m,\u001b[0m \u001b[0mec\u001b[0m \u001b[0;32min\u001b[0m \u001b[0menumerate\u001b[0m\u001b[0;34m(\u001b[0m\u001b[0mexp_cond\u001b[0m\u001b[0;34m)\u001b[0m\u001b[0;34m:\u001b[0m\u001b[0;34m\u001b[0m\u001b[0;34m\u001b[0m\u001b[0m\n\u001b[0m\u001b[1;32m     13\u001b[0m                 \u001b[0;31m#load in ventral data\u001b[0m\u001b[0;34m\u001b[0m\u001b[0;34m\u001b[0m\u001b[0;34m\u001b[0m\u001b[0m\n\u001b[1;32m     14\u001b[0m                 \u001b[0;32mif\u001b[0m \u001b[0mos\u001b[0m\u001b[0;34m.\u001b[0m\u001b[0mpath\u001b[0m\u001b[0;34m.\u001b[0m\u001b[0mexists\u001b[0m\u001b[0;34m(\u001b[0m\u001b[0;34mf'{subj_dir}/{lr}{rr}_{ec}.txt'\u001b[0m\u001b[0;34m)\u001b[0m\u001b[0;34m:\u001b[0m\u001b[0;34m\u001b[0m\u001b[0;34m\u001b[0m\u001b[0m\n",
      "\u001b[0;32m<ipython-input-3-f130ca748a38>\u001b[0m in \u001b[0;36m<module>\u001b[0;34m\u001b[0m\n\u001b[1;32m     10\u001b[0m         \u001b[0;32mfor\u001b[0m \u001b[0mlr\u001b[0m \u001b[0;32min\u001b[0m \u001b[0;34m[\u001b[0m\u001b[0;34m'l'\u001b[0m\u001b[0;34m,\u001b[0m\u001b[0;34m'r'\u001b[0m\u001b[0;34m]\u001b[0m\u001b[0;34m:\u001b[0m\u001b[0;34m\u001b[0m\u001b[0;34m\u001b[0m\u001b[0m\n\u001b[1;32m     11\u001b[0m             \u001b[0mroi_data\u001b[0m \u001b[0;34m=\u001b[0m \u001b[0mnp\u001b[0m\u001b[0;34m.\u001b[0m\u001b[0mzeros\u001b[0m\u001b[0;34m(\u001b[0m\u001b[0;34m(\u001b[0m\u001b[0mlen\u001b[0m\u001b[0;34m(\u001b[0m\u001b[0mexp_cond\u001b[0m\u001b[0;34m)\u001b[0m\u001b[0;34m,\u001b[0m \u001b[0mn_vox\u001b[0m\u001b[0;34m)\u001b[0m\u001b[0;34m)\u001b[0m\u001b[0;34m\u001b[0m\u001b[0;34m\u001b[0m\u001b[0m\n\u001b[0;32m---> 12\u001b[0;31m             \u001b[0;32mfor\u001b[0m \u001b[0mecn\u001b[0m\u001b[0;34m,\u001b[0m \u001b[0mec\u001b[0m \u001b[0;32min\u001b[0m \u001b[0menumerate\u001b[0m\u001b[0;34m(\u001b[0m\u001b[0mexp_cond\u001b[0m\u001b[0;34m)\u001b[0m\u001b[0;34m:\u001b[0m\u001b[0;34m\u001b[0m\u001b[0;34m\u001b[0m\u001b[0m\n\u001b[0m\u001b[1;32m     13\u001b[0m                 \u001b[0;31m#load in ventral data\u001b[0m\u001b[0;34m\u001b[0m\u001b[0;34m\u001b[0m\u001b[0;34m\u001b[0m\u001b[0m\n\u001b[1;32m     14\u001b[0m                 \u001b[0;32mif\u001b[0m \u001b[0mos\u001b[0m\u001b[0;34m.\u001b[0m\u001b[0mpath\u001b[0m\u001b[0;34m.\u001b[0m\u001b[0mexists\u001b[0m\u001b[0;34m(\u001b[0m\u001b[0;34mf'{subj_dir}/{lr}{rr}_{ec}.txt'\u001b[0m\u001b[0;34m)\u001b[0m\u001b[0;34m:\u001b[0m\u001b[0;34m\u001b[0m\u001b[0;34m\u001b[0m\u001b[0m\n",
      "\u001b[0;32m~/anaconda3/envs/fmri/lib/python3.8/bdb.py\u001b[0m in \u001b[0;36mtrace_dispatch\u001b[0;34m(self, frame, event, arg)\u001b[0m\n\u001b[1;32m     86\u001b[0m             \u001b[0;32mreturn\u001b[0m \u001b[0;31m# None\u001b[0m\u001b[0;34m\u001b[0m\u001b[0;34m\u001b[0m\u001b[0m\n\u001b[1;32m     87\u001b[0m         \u001b[0;32mif\u001b[0m \u001b[0mevent\u001b[0m \u001b[0;34m==\u001b[0m \u001b[0;34m'line'\u001b[0m\u001b[0;34m:\u001b[0m\u001b[0;34m\u001b[0m\u001b[0;34m\u001b[0m\u001b[0m\n\u001b[0;32m---> 88\u001b[0;31m             \u001b[0;32mreturn\u001b[0m \u001b[0mself\u001b[0m\u001b[0;34m.\u001b[0m\u001b[0mdispatch_line\u001b[0m\u001b[0;34m(\u001b[0m\u001b[0mframe\u001b[0m\u001b[0;34m)\u001b[0m\u001b[0;34m\u001b[0m\u001b[0;34m\u001b[0m\u001b[0m\n\u001b[0m\u001b[1;32m     89\u001b[0m         \u001b[0;32mif\u001b[0m \u001b[0mevent\u001b[0m \u001b[0;34m==\u001b[0m \u001b[0;34m'call'\u001b[0m\u001b[0;34m:\u001b[0m\u001b[0;34m\u001b[0m\u001b[0;34m\u001b[0m\u001b[0m\n\u001b[1;32m     90\u001b[0m             \u001b[0;32mreturn\u001b[0m \u001b[0mself\u001b[0m\u001b[0;34m.\u001b[0m\u001b[0mdispatch_call\u001b[0m\u001b[0;34m(\u001b[0m\u001b[0mframe\u001b[0m\u001b[0;34m,\u001b[0m \u001b[0marg\u001b[0m\u001b[0;34m)\u001b[0m\u001b[0;34m\u001b[0m\u001b[0;34m\u001b[0m\u001b[0m\n",
      "\u001b[0;32m~/anaconda3/envs/fmri/lib/python3.8/bdb.py\u001b[0m in \u001b[0;36mdispatch_line\u001b[0;34m(self, frame)\u001b[0m\n\u001b[1;32m    111\u001b[0m         \u001b[0;32mif\u001b[0m \u001b[0mself\u001b[0m\u001b[0;34m.\u001b[0m\u001b[0mstop_here\u001b[0m\u001b[0;34m(\u001b[0m\u001b[0mframe\u001b[0m\u001b[0;34m)\u001b[0m \u001b[0;32mor\u001b[0m \u001b[0mself\u001b[0m\u001b[0;34m.\u001b[0m\u001b[0mbreak_here\u001b[0m\u001b[0;34m(\u001b[0m\u001b[0mframe\u001b[0m\u001b[0;34m)\u001b[0m\u001b[0;34m:\u001b[0m\u001b[0;34m\u001b[0m\u001b[0;34m\u001b[0m\u001b[0m\n\u001b[1;32m    112\u001b[0m             \u001b[0mself\u001b[0m\u001b[0;34m.\u001b[0m\u001b[0muser_line\u001b[0m\u001b[0;34m(\u001b[0m\u001b[0mframe\u001b[0m\u001b[0;34m)\u001b[0m\u001b[0;34m\u001b[0m\u001b[0;34m\u001b[0m\u001b[0m\n\u001b[0;32m--> 113\u001b[0;31m             \u001b[0;32mif\u001b[0m \u001b[0mself\u001b[0m\u001b[0;34m.\u001b[0m\u001b[0mquitting\u001b[0m\u001b[0;34m:\u001b[0m \u001b[0;32mraise\u001b[0m \u001b[0mBdbQuit\u001b[0m\u001b[0;34m\u001b[0m\u001b[0;34m\u001b[0m\u001b[0m\n\u001b[0m\u001b[1;32m    114\u001b[0m         \u001b[0;32mreturn\u001b[0m \u001b[0mself\u001b[0m\u001b[0;34m.\u001b[0m\u001b[0mtrace_dispatch\u001b[0m\u001b[0;34m\u001b[0m\u001b[0;34m\u001b[0m\u001b[0m\n\u001b[1;32m    115\u001b[0m \u001b[0;34m\u001b[0m\u001b[0m\n",
      "\u001b[0;31mBdbQuit\u001b[0m: "
     ]
    }
   ],
   "source": [
    "all_rois = ['LO_toolloc', 'PFS_toolloc', 'PPC_spaceloc', 'APC_spaceloc', 'PPC_depthloc', 'APC_depthloc', 'PPC_distloc',  'APC_distloc', 'PPC_toolloc', 'APC_toolloc']\n",
    "\n",
    "summary_df = pd.DataFrame(columns = ['sub'] + [\"l\" + s for s in d_roi] + [\"r\" + s for s in d_roi])\n",
    "for sn, ss in enumerate(subj_list):\n",
    "    subj_dir = f'/lab_data/behrmannlab/vlad/docnet/sub-{ss}/ses-02/{data_dir}'\n",
    "    roi_dir = f'/lab_data/behrmannlab/vlad/docnet/sub-{ss}/ses-02/derivatives/rois'\n",
    "\n",
    "    roi_decode = []\n",
    "    for rr in all_rois:\n",
    "        for lr in ['l','r']:\n",
    "            roi_data = np.zeros((len(exp_cond), n_vox))\n",
    "            for ecn, ec in enumerate(exp_cond):\n",
    "                #load in ventral data\n",
    "                if os.path.exists(f'{subj_dir}/{lr}{rr}_{ec}.txt'):\n",
    "                    temp_data = np.loadtxt(f'{subj_dir}/{lr}{rr}_{ec}.txt')\n",
    "                    temp_data = temp_data[0:n_vox,3]\n",
    "                    \n",
    "                    pdb.set_trace()\n"
   ]
  },
  {
   "cell_type": "code",
   "execution_count": 4,
   "id": "6a6119eb-e7fb-4a1b-b178-299f8237891d",
   "metadata": {},
   "outputs": [
    {
     "data": {
      "text/plain": [
       "array([1., 1., 1., 1., 1., 2., 2., 2., 2., 2., 3., 3., 3., 3., 3., 4., 4.,\n",
       "       4., 4., 4., 5., 5., 5., 5., 5.])"
      ]
     },
     "execution_count": 4,
     "metadata": {},
     "output_type": "execute_result"
    }
   ],
   "source": [
    "exp_labels\n"
   ]
  },
  {
   "cell_type": "code",
   "execution_count": null,
   "id": "200e476c-e834-497f-b7d5-a70e126fd9ef",
   "metadata": {},
   "outputs": [],
   "source": []
  }
 ],
 "metadata": {
  "kernelspec": {
   "display_name": "Python [conda env:fmri]",
   "language": "python",
   "name": "conda-env-fmri-py"
  },
  "language_info": {
   "codemirror_mode": {
    "name": "ipython",
    "version": 3
   },
   "file_extension": ".py",
   "mimetype": "text/x-python",
   "name": "python",
   "nbconvert_exporter": "python",
   "pygments_lexer": "ipython3",
   "version": "3.8.0"
  }
 },
 "nbformat": 4,
 "nbformat_minor": 5
}
