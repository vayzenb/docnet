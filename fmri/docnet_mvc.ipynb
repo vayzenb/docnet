{
 "cells": [
  {
   "cell_type": "code",
   "execution_count": 114,
   "metadata": {},
   "outputs": [],
   "source": [
    "from nilearn.datasets import MNI152_FILE_PATH\n",
    "import pandas as pd\n",
    "from nilearn import image, glm, plotting, input_data\n",
    "\n",
    "import numpy as np\n",
    "\n",
    "from nilearn.input_data import NiftiMasker\n",
    "import nibabel as nib\n",
    "\n",
    "from brainiak.searchlight.searchlight import Searchlight, Ball\n",
    "\n",
    "import time\n",
    "import os\n",
    "import statsmodels.api as sm\n",
    "from nilearn.datasets import load_mni152_brain_mask\n",
    "import pdb\n",
    "\n",
    "from sklearn.decomposition import PCA\n",
    "from sklearn.model_selection import ShuffleSplit\n",
    "from sklearn.linear_model import Ridge\n",
    "from sklearn.linear_model import LinearRegression\n",
    "\n",
    "import matplotlib.pyplot as plt"
   ]
  },
  {
   "cell_type": "code",
   "execution_count": 159,
   "metadata": {},
   "outputs": [],
   "source": [
    "study ='docnet'\n",
    "study_dir = f\"/lab_data/behrmannlab/vlad/{study}\"\n",
    "out_dir = f'{study_dir}/derivatives/fc'\n",
    "results_dir = '/user_data/vayzenbe/GitHub_Repos/docnet/results'\n",
    "exp = 'catmvpa'\n",
    "subj_list=[\"docnet2001\", \"docnet2003\",\"docnet2004\", \"docnet2005\", \"docnet2007\",\"docnet2008\", \"docnet2012\"]\n",
    "subj_list = [2001,2003,2004, 2005, 2008, 2012]\n",
    "#subj_list = [2008, 2012]\n",
    "\n",
    "#lr = 'r'\n",
    "#rr = 'PPC_spaceloc'\n",
    "runs = list(range(1,9))\n",
    "#runs = list(range(1,5))\n",
    "\n",
    "\n",
    "vols = 331\n",
    "first_fix = 8\n",
    "\n",
    "pc_thresh = .9\n",
    "clf = Ridge(normalize=True) #how to best to choose regularization term?\n",
    "clf = LinearRegression()\n",
    "#train/test split in 6 and 2 runs\n",
    "rs = ShuffleSplit(n_splits=5, test_size=.25, random_state=0)\n"
   ]
  },
  {
   "cell_type": "code",
   "execution_count": 145,
   "metadata": {},
   "outputs": [],
   "source": [
    "def extract_pc(data, n_components=None):\n",
    "\n",
    "    \"\"\"\n",
    "    Extract principal components\n",
    "    if n_components isn't set, it will extract all it can\n",
    "    \"\"\"\n",
    "    pca = PCA(n_components = n_components)\n",
    "    pca.fit(data)\n",
    "    \n",
    "    return pca"
   ]
  },
  {
   "cell_type": "code",
   "execution_count": 146,
   "metadata": {},
   "outputs": [],
   "source": [
    "def calc_pc_n(pca, thresh):\n",
    "    '''\n",
    "    Calculate how many PCs are needed to explain X% of data\n",
    "    \n",
    "    pca - result of pca analysis\n",
    "    thresh- threshold for how many components to keep\n",
    "    '''\n",
    "\n",
    "    explained_variance = pca.explained_variance_ratio_\n",
    "    \n",
    "    var = 0\n",
    "    for n_comp, ev in enumerate(explained_variance):\n",
    "        var += ev #add each PC's variance to current variance\n",
    "        #print(n_comp, ev, var)\n",
    "\n",
    "        if var >=thresh: #once variance > than thresh, stop\n",
    "            break\n",
    "    \n",
    "    '''\n",
    "    plt.bar(range(len(explained_variance[0:n_comp+1])), explained_variance[0:n_comp+1], alpha=0.5, align='center')\n",
    "    plt.ylabel('Variance ratio')\n",
    "    plt.xlabel('Principal components')\n",
    "    plt.show()\n",
    "    '''\n",
    "    return n_comp+1"
   ]
  },
  {
   "cell_type": "code",
   "execution_count": 147,
   "metadata": {},
   "outputs": [],
   "source": [
    "def extract_roi_sphere(img, coords):\n",
    "    roi_masker = input_data.NiftiSpheresMasker([tuple(coords)], radius = 6)\n",
    "    seed_time_series = roi_masker.fit_transform(img)\n",
    "    \n",
    "    phys = np.mean(seed_time_series, axis= 1)\n",
    "    phys = (phys - np.mean(phys)) / np.std(phys) #TRY WITHOUT STANDARDIZING AT SOME POINT\n",
    "    phys = phys.reshape((phys.shape[0],1))\n",
    "    \n",
    "    return phys"
   ]
  },
  {
   "cell_type": "code",
   "execution_count": 155,
   "metadata": {},
   "outputs": [],
   "source": [
    "def extract_rois(run, rois, img):\n",
    "    all_rois = pd.DataFrame(columns = ['run','roi','ts'])\n",
    "    roi_data = []\n",
    "    for lr in ['l','r']:\n",
    "        for rr in rois:\n",
    "            if os.path.exists(f'{roi_dir}/{lr}{rr}.nii.gz'):\n",
    "                #print(f'{lr}{rr}')\n",
    "                roi = image.get_data(image.load_img(f'{roi_dir}/{lr}{rr}_peak.nii.gz'))\n",
    "                reshaped_roi = np.reshape(roi, (91,109,91,1))\n",
    "                masked_img = reshaped_roi*curr_run\n",
    "\n",
    "                #extract voxel resposnes from within mask\n",
    "                vox_acts = masked_img.reshape(-1, vols) #reshape into rows (voxels) x columns (time)\n",
    "                vox_acts =vox_acts[~np.all(vox_acts == 0, axis=1)] #remove voxels that are 0 (masked out)\n",
    "                vox_acts = np.transpose(vox_acts)\n",
    "                vox_acts = vox_acts[first_fix:, :] #remove first 8 vols\n",
    "                roi_data.append([run, f'{lr}{rr}', vox_acts])\n",
    "\n",
    "                \n",
    "    roi_data = np.array(roi_data)\n",
    "    all_rois = all_rois.append(pd.DataFrame(roi_data, columns=all_rois.columns), ignore_index=True)\n",
    "\n",
    "    return all_rois\n",
    "\n",
    "            \n",
    "            "
   ]
  },
  {
   "cell_type": "code",
   "execution_count": 156,
   "metadata": {},
   "outputs": [],
   "source": [
    "def calc_mvc(seed_train,seed_test, target_train, target_test, target_pc):\n",
    "    \"\"\"\n",
    "    Conduct ridge by iteratively fitting all seed PCs to target PCs\n",
    "\n",
    "    seed_train,seed_test, target_train, target_test, target_pc\n",
    "    \"\"\"\n",
    "\n",
    "    all_corrs = []\n",
    "    for pcn in range(0,len(target_pc.explained_variance_ratio_)):\n",
    "        \n",
    "        clf.fit(seed_train, target_train[:,pcn]) #fit seed PCs to target\n",
    "        pred_ts = clf.predict(seed_test) #use dorsal test data to predict left out runs of ventral test data\n",
    "        weighted_corr = np.corrcoef(pred_ts,target_test[:,pcn])[0,1] * target_pc.explained_variance_ratio_[pcn]\n",
    "        all_corrs.append(weighted_corr)\n",
    "\n",
    "    final_corr = np.sum(all_corrs)/(np.sum(target_pc.explained_variance_ratio_))\n",
    "\n",
    "    return final_corr"
   ]
  },
  {
   "cell_type": "code",
   "execution_count": 157,
   "metadata": {},
   "outputs": [],
   "source": [
    "def shuffle_split(all_rois):\n",
    "    #create summary file\n",
    "    roi_summary= pd.DataFrame(columns = ['ventral_roi', 'dorsal_roi', 'mvc'])\n",
    "\n",
    "\n",
    "    for lr in ['l','r']:\n",
    "        for vr in ventral_rois:\n",
    "            vroi = f'{lr}{vr}'\n",
    "            if os.path.exists(f'{roi_dir}/{vroi}_peak.nii.gz'):\n",
    "                ventral_df =all_rois[(all_rois['roi'] == vroi)].reset_index()\n",
    "\n",
    "\n",
    "                for lr in ['r']:\n",
    "                    for dr in dorsal_rois:\n",
    "                        droi = f'{lr}{dr}'\n",
    "                        if os.path.exists(f'{roi_dir}/{droi}_peak.nii.gz'):\n",
    "                            dorsal_df =all_rois[(all_rois['roi'] == droi)].reset_index()\n",
    "                            print(vroi,droi)\n",
    "\n",
    "                            mvc_list = []\n",
    "                            for train_index, test_index in rs.split(runs): #extract data for each split\n",
    "                                #create train and test set for ventral regions\n",
    "                                ventral_train = np.concatenate(ventral_df['ts'].iloc[train_index].to_numpy())\n",
    "                                ventral_test= np.concatenate(ventral_df['ts'].iloc[test_index].to_numpy())\n",
    "\n",
    "                                #extract PCs from ventral regions\n",
    "                                n_comp = calc_pc_n(extract_pc(ventral_train),pc_thresh) #determine number of PCs in train_data using threshold\n",
    "                                v_pca = extract_pc(ventral_train, n_comp) #conduct PCA one more time with that number of PCs\n",
    "\n",
    "                                vtrain_pcs = v_pca.transform(ventral_train) #transform train data in PCs\n",
    "                                vtest_pcs = v_pca.transform(ventral_test) #transform test data into PCs\n",
    "                                    \n",
    "                                \n",
    "                                #create train and test set for dorsal regions\n",
    "                                dorsal_train = np.concatenate(dorsal_df['ts'].iloc[train_index].to_numpy())\n",
    "                                dorsal_test = np.concatenate(dorsal_df['ts'].iloc[test_index].to_numpy())\n",
    "\n",
    "                                #extract PC from dorsal region\n",
    "                                n_comp = calc_pc_n(extract_pc(dorsal_train),pc_thresh) #determine number of PCs in train_data using threshold\n",
    "                                d_pca = extract_pc(dorsal_train, n_comp) #conduct PCA one more time with that number of PCs\n",
    "\n",
    "                                dtrain_pcs = d_pca.transform(dorsal_train) #transform train data in PCs\n",
    "                                dtest_pcs = d_pca.transform(dorsal_test) #transform test data into PCs\n",
    "\n",
    "                                #do ridge regression\n",
    "                                mvc_list.append(calc_mvc(dtrain_pcs, dtest_pcs, vtrain_pcs, vtest_pcs, v_pca))\n",
    "\n",
    "                            mvc = np.mean(mvc_list)\n",
    "                            roi_summary = roi_summary.append(pd.Series([vroi, droi, mvc],index = roi_summary.columns), ignore_index=True)\n",
    "\n",
    "    roi_summary.to_csv(f'{out_dir}/{study}{ss}_mvc.csv', index =False)\n",
    "                                \n",
    "\n",
    "\n",
    "\n"
   ]
  },
  {
   "cell_type": "code",
   "execution_count": 160,
   "metadata": {},
   "outputs": [
    {
     "name": "stdout",
     "output_type": "stream",
     "text": [
      "2001\n",
      "1\n"
     ]
    },
    {
     "name": "stderr",
     "output_type": "stream",
     "text": [
      "/home/vayzenbe/.conda/envs/brainiak/lib/python3.7/site-packages/nilearn/image/image.py:1057: FutureWarning: The parameter \"sessions\" will be removed in 0.9.0 release of Nilearn. Please use the parameter \"runs\" instead.\n",
      "  ensure_finite=ensure_finite)\n",
      "/home/vayzenbe/.conda/envs/brainiak/lib/python3.7/site-packages/ipykernel_launcher.py:20: VisibleDeprecationWarning: Creating an ndarray from ragged nested sequences (which is a list-or-tuple of lists-or-tuples-or ndarrays with different lengths or shapes) is deprecated. If you meant to do this, you must specify 'dtype=object' when creating the ndarray.\n"
     ]
    },
    {
     "name": "stdout",
     "output_type": "stream",
     "text": [
      "2\n",
      "3\n",
      "4\n",
      "5\n",
      "6\n",
      "7\n",
      "8\n",
      "lLO_toolloc rPPC_spaceloc\n",
      "lLO_toolloc rPPC_toolloc\n",
      "lLO_toolloc rPPC_distloc\n",
      "lLO_toolloc rAPC_spaceloc\n",
      "lLO_toolloc rAPC_toolloc\n",
      "lLO_toolloc rAPC_distloc\n",
      "rPFS_toolloc rPPC_spaceloc\n",
      "rPFS_toolloc rPPC_toolloc\n",
      "rPFS_toolloc rPPC_distloc\n",
      "rPFS_toolloc rAPC_spaceloc\n",
      "rPFS_toolloc rAPC_toolloc\n",
      "rPFS_toolloc rAPC_distloc\n",
      "rLO_toolloc rPPC_spaceloc\n",
      "rLO_toolloc rPPC_toolloc\n",
      "rLO_toolloc rPPC_distloc\n",
      "rLO_toolloc rAPC_spaceloc\n",
      "rLO_toolloc rAPC_toolloc\n",
      "rLO_toolloc rAPC_distloc\n",
      "rPFS_toolloc rPPC_spaceloc\n",
      "rPFS_toolloc rPPC_toolloc\n",
      "rPFS_toolloc rPPC_distloc\n",
      "rPFS_toolloc rAPC_spaceloc\n",
      "rPFS_toolloc rAPC_toolloc\n",
      "rPFS_toolloc rAPC_distloc\n",
      "2003\n",
      "1\n"
     ]
    },
    {
     "name": "stderr",
     "output_type": "stream",
     "text": [
      "/home/vayzenbe/.conda/envs/brainiak/lib/python3.7/site-packages/nilearn/image/image.py:1057: FutureWarning: The parameter \"sessions\" will be removed in 0.9.0 release of Nilearn. Please use the parameter \"runs\" instead.\n",
      "  ensure_finite=ensure_finite)\n",
      "/home/vayzenbe/.conda/envs/brainiak/lib/python3.7/site-packages/ipykernel_launcher.py:20: VisibleDeprecationWarning: Creating an ndarray from ragged nested sequences (which is a list-or-tuple of lists-or-tuples-or ndarrays with different lengths or shapes) is deprecated. If you meant to do this, you must specify 'dtype=object' when creating the ndarray.\n"
     ]
    },
    {
     "name": "stdout",
     "output_type": "stream",
     "text": [
      "2\n",
      "3\n",
      "4\n",
      "5\n",
      "6\n",
      "7\n",
      "8\n",
      "lLO_toolloc rPPC_spaceloc\n",
      "lLO_toolloc rPPC_toolloc\n",
      "lLO_toolloc rPPC_distloc\n",
      "lLO_toolloc rAPC_spaceloc\n",
      "lLO_toolloc rAPC_toolloc\n",
      "lLO_toolloc rAPC_distloc\n",
      "rPFS_toolloc rPPC_spaceloc\n",
      "rPFS_toolloc rPPC_toolloc\n",
      "rPFS_toolloc rPPC_distloc\n",
      "rPFS_toolloc rAPC_spaceloc\n",
      "rPFS_toolloc rAPC_toolloc\n",
      "rPFS_toolloc rAPC_distloc\n",
      "rLO_toolloc rPPC_spaceloc\n",
      "rLO_toolloc rPPC_toolloc\n",
      "rLO_toolloc rPPC_distloc\n",
      "rLO_toolloc rAPC_spaceloc\n",
      "rLO_toolloc rAPC_toolloc\n",
      "rLO_toolloc rAPC_distloc\n",
      "rPFS_toolloc rPPC_spaceloc\n",
      "rPFS_toolloc rPPC_toolloc\n",
      "rPFS_toolloc rPPC_distloc\n",
      "rPFS_toolloc rAPC_spaceloc\n",
      "rPFS_toolloc rAPC_toolloc\n",
      "rPFS_toolloc rAPC_distloc\n",
      "2004\n",
      "1\n"
     ]
    },
    {
     "name": "stderr",
     "output_type": "stream",
     "text": [
      "/home/vayzenbe/.conda/envs/brainiak/lib/python3.7/site-packages/nilearn/image/image.py:1057: FutureWarning: The parameter \"sessions\" will be removed in 0.9.0 release of Nilearn. Please use the parameter \"runs\" instead.\n",
      "  ensure_finite=ensure_finite)\n",
      "/home/vayzenbe/.conda/envs/brainiak/lib/python3.7/site-packages/ipykernel_launcher.py:20: VisibleDeprecationWarning: Creating an ndarray from ragged nested sequences (which is a list-or-tuple of lists-or-tuples-or ndarrays with different lengths or shapes) is deprecated. If you meant to do this, you must specify 'dtype=object' when creating the ndarray.\n"
     ]
    },
    {
     "name": "stdout",
     "output_type": "stream",
     "text": [
      "2\n",
      "3\n",
      "4\n",
      "5\n",
      "6\n",
      "7\n",
      "8\n",
      "lLO_toolloc rPPC_spaceloc\n",
      "lLO_toolloc rPPC_toolloc\n",
      "lLO_toolloc rPPC_distloc\n",
      "lLO_toolloc rAPC_spaceloc\n",
      "lLO_toolloc rAPC_toolloc\n",
      "lLO_toolloc rAPC_distloc\n",
      "rPFS_toolloc rPPC_spaceloc\n",
      "rPFS_toolloc rPPC_toolloc\n",
      "rPFS_toolloc rPPC_distloc\n",
      "rPFS_toolloc rAPC_spaceloc\n",
      "rPFS_toolloc rAPC_toolloc\n",
      "rPFS_toolloc rAPC_distloc\n",
      "rLO_toolloc rPPC_spaceloc\n",
      "rLO_toolloc rPPC_toolloc\n",
      "rLO_toolloc rPPC_distloc\n",
      "rLO_toolloc rAPC_spaceloc\n",
      "rLO_toolloc rAPC_toolloc\n",
      "rLO_toolloc rAPC_distloc\n",
      "rPFS_toolloc rPPC_spaceloc\n",
      "rPFS_toolloc rPPC_toolloc\n",
      "rPFS_toolloc rPPC_distloc\n",
      "rPFS_toolloc rAPC_spaceloc\n",
      "rPFS_toolloc rAPC_toolloc\n",
      "rPFS_toolloc rAPC_distloc\n",
      "2005\n",
      "1\n"
     ]
    },
    {
     "name": "stderr",
     "output_type": "stream",
     "text": [
      "/home/vayzenbe/.conda/envs/brainiak/lib/python3.7/site-packages/nilearn/image/image.py:1057: FutureWarning: The parameter \"sessions\" will be removed in 0.9.0 release of Nilearn. Please use the parameter \"runs\" instead.\n",
      "  ensure_finite=ensure_finite)\n",
      "/home/vayzenbe/.conda/envs/brainiak/lib/python3.7/site-packages/ipykernel_launcher.py:20: VisibleDeprecationWarning: Creating an ndarray from ragged nested sequences (which is a list-or-tuple of lists-or-tuples-or ndarrays with different lengths or shapes) is deprecated. If you meant to do this, you must specify 'dtype=object' when creating the ndarray.\n"
     ]
    },
    {
     "name": "stdout",
     "output_type": "stream",
     "text": [
      "2\n",
      "3\n",
      "4\n",
      "5\n",
      "6\n",
      "7\n",
      "8\n",
      "lLO_toolloc rPPC_spaceloc\n",
      "lLO_toolloc rPPC_toolloc\n",
      "lLO_toolloc rPPC_distloc\n",
      "lLO_toolloc rAPC_spaceloc\n",
      "lLO_toolloc rAPC_toolloc\n",
      "rPFS_toolloc rPPC_spaceloc\n",
      "rPFS_toolloc rPPC_toolloc\n",
      "rPFS_toolloc rPPC_distloc\n",
      "rPFS_toolloc rAPC_spaceloc\n",
      "rPFS_toolloc rAPC_toolloc\n",
      "rLO_toolloc rPPC_spaceloc\n",
      "rLO_toolloc rPPC_toolloc\n",
      "rLO_toolloc rPPC_distloc\n",
      "rLO_toolloc rAPC_spaceloc\n",
      "rLO_toolloc rAPC_toolloc\n",
      "rPFS_toolloc rPPC_spaceloc\n",
      "rPFS_toolloc rPPC_toolloc\n",
      "rPFS_toolloc rPPC_distloc\n",
      "rPFS_toolloc rAPC_spaceloc\n",
      "rPFS_toolloc rAPC_toolloc\n",
      "2008\n",
      "1\n"
     ]
    },
    {
     "name": "stderr",
     "output_type": "stream",
     "text": [
      "/home/vayzenbe/.conda/envs/brainiak/lib/python3.7/site-packages/nilearn/image/image.py:1057: FutureWarning: The parameter \"sessions\" will be removed in 0.9.0 release of Nilearn. Please use the parameter \"runs\" instead.\n",
      "  ensure_finite=ensure_finite)\n",
      "/home/vayzenbe/.conda/envs/brainiak/lib/python3.7/site-packages/ipykernel_launcher.py:20: VisibleDeprecationWarning: Creating an ndarray from ragged nested sequences (which is a list-or-tuple of lists-or-tuples-or ndarrays with different lengths or shapes) is deprecated. If you meant to do this, you must specify 'dtype=object' when creating the ndarray.\n"
     ]
    },
    {
     "name": "stdout",
     "output_type": "stream",
     "text": [
      "2\n",
      "3\n",
      "4\n",
      "5\n",
      "6\n",
      "7\n",
      "8\n",
      "lLO_toolloc rPPC_spaceloc\n",
      "lLO_toolloc rPPC_distloc\n",
      "lLO_toolloc rAPC_spaceloc\n",
      "lLO_toolloc rAPC_distloc\n",
      "rPFS_toolloc rPPC_spaceloc\n",
      "rPFS_toolloc rPPC_distloc\n",
      "rPFS_toolloc rAPC_spaceloc\n",
      "rPFS_toolloc rAPC_distloc\n",
      "rLO_toolloc rPPC_spaceloc\n",
      "rLO_toolloc rPPC_distloc\n",
      "rLO_toolloc rAPC_spaceloc\n",
      "rLO_toolloc rAPC_distloc\n",
      "rPFS_toolloc rPPC_spaceloc\n",
      "rPFS_toolloc rPPC_distloc\n",
      "rPFS_toolloc rAPC_spaceloc\n",
      "rPFS_toolloc rAPC_distloc\n",
      "2012\n",
      "1\n"
     ]
    },
    {
     "name": "stderr",
     "output_type": "stream",
     "text": [
      "/home/vayzenbe/.conda/envs/brainiak/lib/python3.7/site-packages/nilearn/image/image.py:1057: FutureWarning: The parameter \"sessions\" will be removed in 0.9.0 release of Nilearn. Please use the parameter \"runs\" instead.\n",
      "  ensure_finite=ensure_finite)\n",
      "/home/vayzenbe/.conda/envs/brainiak/lib/python3.7/site-packages/ipykernel_launcher.py:20: VisibleDeprecationWarning: Creating an ndarray from ragged nested sequences (which is a list-or-tuple of lists-or-tuples-or ndarrays with different lengths or shapes) is deprecated. If you meant to do this, you must specify 'dtype=object' when creating the ndarray.\n"
     ]
    },
    {
     "name": "stdout",
     "output_type": "stream",
     "text": [
      "2\n",
      "3\n",
      "4\n",
      "5\n",
      "6\n",
      "7\n",
      "8\n",
      "lLO_toolloc rPPC_spaceloc\n",
      "lLO_toolloc rPPC_distloc\n",
      "lLO_toolloc rAPC_spaceloc\n",
      "lLO_toolloc rAPC_distloc\n",
      "rPFS_toolloc rPPC_spaceloc\n",
      "rPFS_toolloc rPPC_distloc\n",
      "rPFS_toolloc rAPC_spaceloc\n",
      "rPFS_toolloc rAPC_distloc\n",
      "rLO_toolloc rPPC_spaceloc\n",
      "rLO_toolloc rPPC_distloc\n",
      "rLO_toolloc rAPC_spaceloc\n",
      "rLO_toolloc rAPC_distloc\n",
      "rPFS_toolloc rPPC_spaceloc\n",
      "rPFS_toolloc rPPC_distloc\n",
      "rPFS_toolloc rAPC_spaceloc\n",
      "rPFS_toolloc rAPC_distloc\n"
     ]
    }
   ],
   "source": [
    "\"\"\"\n",
    "extract voxel responses from seed\n",
    "instead of concatenating the filtered_func, append the concat the voxels TS\n",
    "store each TS in a list, then iterateively create train and test sets by concating different runs\n",
    "\"\"\"\n",
    "\n",
    "\n",
    "ventral_rois = ['LO_toolloc', 'PFS_toolloc']\n",
    "dorsal_rois = ['PPC_spaceloc',  'PPC_toolloc','PPC_distloc', 'APC_spaceloc',  'APC_toolloc','APC_distloc']\n",
    "\n",
    "\n",
    "for ss in subj_list:\n",
    "    print(ss)\n",
    "    sub_dir = f'{study_dir}/sub-{study}{ss}/ses-02/'\n",
    "    cov_dir = f'{sub_dir}/covs'\n",
    "    roi_dir = f'{sub_dir}/derivatives/rois'\n",
    "    exp_dir = f'{sub_dir}/derivatives/fsl/{exp}'\n",
    "\n",
    "    for run in runs:\n",
    "        \n",
    "        curr_run = image.load_img(f'{exp_dir}/run-0{run}/1stLevel.feat/filtered_func_data_reg.nii.gz')\n",
    "        curr_run = image.clean_img(curr_run,standardize=True)\n",
    "        affine = curr_run.affine\n",
    "        curr_run = image.get_data(curr_run)\n",
    "        \n",
    "        \n",
    "        if run == 1:\n",
    "            all_rois = extract_rois(run,ventral_rois, curr_run)\n",
    "        else:\n",
    "            all_rois = np.concatenate((all_rois, extract_rois(run,ventral_rois, curr_run)), axis =0)\n",
    "        \n",
    "        all_rois = np.concatenate((all_rois, extract_rois(run,dorsal_rois, curr_run)),axis = 0)\n",
    "            \n",
    "        #load filtered_func and roi and convert to np\n",
    "        \n",
    "\n",
    "    all_rois = pd.DataFrame(all_rois, columns = ['run','roi','ts'])\n",
    "    shuffle_split(all_rois)\n"
   ]
  },
  {
   "cell_type": "code",
   "execution_count": 142,
   "metadata": {},
   "outputs": [],
   "source": [
    "import subprocess\n",
    "def copy_rois():\n",
    "    \"\"\"\n",
    "    Copies ROIs from spaceloc directory to docnet one\n",
    "    \"\"\"\n",
    "    print(\"copying rois...\")\n",
    "    spaceloc_dir = f\"/lab_data/behrmannlab/vlad/spaceloc\"\n",
    "    \n",
    "    for ss in subj_list:\n",
    "        print(ss)\n",
    "        space_rois = f'{spaceloc_dir}/sub-spaceloc10{str(ss)[-2:]}/ses-01/derivatives/rois'\n",
    "        sub_rois = f'{study_dir}/sub-{study}{ss}/ses-02/derivatives/'\n",
    "        bash_cmd = f'rsync -aP {space_rois} {sub_rois}'\n",
    "        subprocess.run(bash_cmd.split(),check=True, capture_output=True, text=True)\n",
    "        #shutil.copytree(space_rois, sub_rois)"
   ]
  },
  {
   "cell_type": "code",
   "execution_count": 167,
   "metadata": {},
   "outputs": [],
   "source": [
    "for lr in ['l','r']:\n",
    "    for vr in ventral_rois:\n",
    "        vroi = f'{lr}{vr}'\n",
    "        roi_summary = pd.DataFrame(columns = ['sub'] + ['r' + dr for dr in dorsal_rois])\n",
    "        for ss in subj_list:\n",
    "            curr_df = pd.read_csv(f'{out_dir}/{study}{ss}_mvc.csv')\n",
    "            curr_df = curr_df[curr_df['ventral_roi'] == vroi]\n",
    "            \n",
    "            roi_data = [ss]\n",
    "            for lr in ['l','r']:\n",
    "                for dr in dorsal_rois:\n",
    "                    droi = f'{lr}{dr}'\n",
    "                    try:\n",
    "                        roi_data.append(curr_df[curr_df['dorsal_roi'] == droi])\n",
    "                    except:\n",
    "                        roi_data.append(np.nan)\n",
    "\n",
    "            \n",
    "            roi_summary.append(pd.Series(roi_data, index = roi_summary.columns), ignore_index=True)\n",
    "                    \n",
    "            \n",
    "            \n",
    "            break\n",
    "        break\n",
    "    break\n",
    "\n"
   ]
  },
  {
   "cell_type": "code",
   "execution_count": 188,
   "metadata": {},
   "outputs": [],
   "source": [
    "roi_summary['sub'] ='2001'"
   ]
  },
  {
   "cell_type": "code",
   "execution_count": 186,
   "metadata": {},
   "outputs": [
    {
     "data": {
      "text/html": [
       "<div>\n",
       "<style scoped>\n",
       "    .dataframe tbody tr th:only-of-type {\n",
       "        vertical-align: middle;\n",
       "    }\n",
       "\n",
       "    .dataframe tbody tr th {\n",
       "        vertical-align: top;\n",
       "    }\n",
       "\n",
       "    .dataframe thead th {\n",
       "        text-align: right;\n",
       "    }\n",
       "</style>\n",
       "<table border=\"1\" class=\"dataframe\">\n",
       "  <thead>\n",
       "    <tr style=\"text-align: right;\">\n",
       "      <th></th>\n",
       "      <th>index</th>\n",
       "      <th>mvc</th>\n",
       "    </tr>\n",
       "    <tr>\n",
       "      <th>dorsal_roi</th>\n",
       "      <th></th>\n",
       "      <th></th>\n",
       "    </tr>\n",
       "  </thead>\n",
       "  <tbody>\n",
       "    <tr>\n",
       "      <th>rAPC_distloc</th>\n",
       "      <td>5</td>\n",
       "      <td>0.459565</td>\n",
       "    </tr>\n",
       "    <tr>\n",
       "      <th>rAPC_spaceloc</th>\n",
       "      <td>3</td>\n",
       "      <td>0.462389</td>\n",
       "    </tr>\n",
       "    <tr>\n",
       "      <th>rAPC_toolloc</th>\n",
       "      <td>4</td>\n",
       "      <td>0.474069</td>\n",
       "    </tr>\n",
       "    <tr>\n",
       "      <th>rPPC_distloc</th>\n",
       "      <td>2</td>\n",
       "      <td>0.480960</td>\n",
       "    </tr>\n",
       "    <tr>\n",
       "      <th>rPPC_spaceloc</th>\n",
       "      <td>0</td>\n",
       "      <td>0.370533</td>\n",
       "    </tr>\n",
       "    <tr>\n",
       "      <th>rPPC_toolloc</th>\n",
       "      <td>1</td>\n",
       "      <td>0.464082</td>\n",
       "    </tr>\n",
       "  </tbody>\n",
       "</table>\n",
       "</div>"
      ],
      "text/plain": [
       "               index       mvc\n",
       "dorsal_roi                    \n",
       "rAPC_distloc       5  0.459565\n",
       "rAPC_spaceloc      3  0.462389\n",
       "rAPC_toolloc       4  0.474069\n",
       "rPPC_distloc       2  0.480960\n",
       "rPPC_spaceloc      0  0.370533\n",
       "rPPC_toolloc       1  0.464082"
      ]
     },
     "execution_count": 186,
     "metadata": {},
     "output_type": "execute_result"
    }
   ],
   "source": [
    "curr_df.groupby(['dorsal_roi']).mean()"
   ]
  },
  {
   "cell_type": "code",
   "execution_count": 50,
   "metadata": {},
   "outputs": [
    {
     "data": {
      "image/png": "[encoded data removed]",
      "text/plain": [
       "<Figure size 432x288 with 1 Axes>"
      ]
     },
     "metadata": {
      "needs_background": "light"
     },
     "output_type": "display_data"
    },
    {
     "data": {
      "text/plain": [
       "array([0.74791825, 0.15334176, 0.04882536], dtype=float32)"
      ]
     },
     "execution_count": 50,
     "metadata": {},
     "output_type": "execute_result"
    }
   ],
   "source": [
    "n_comp = calc_pc_n(extract_pc(dorsal_train),pc_thresh) #determine number of PCs in train_data using threshold\n",
    "pca = extract_pc(dorsal_train, n_comp) #conduct PCA one more time with that number of PCs\n",
    "pca.explained_variance_ratio_\n"
   ]
  },
  {
   "cell_type": "code",
   "execution_count": 28,
   "metadata": {},
   "outputs": [
    {
     "name": "stdout",
     "output_type": "stream",
     "text": [
      "[0.7479177  0.15334198]\n"
     ]
    }
   ],
   "source": [
    "print(pca.explained_variance_ratio_)\n"
   ]
  },
  {
   "cell_type": "code",
   "execution_count": 171,
   "metadata": {},
   "outputs": [],
   "source": [
    "\"\"\"\n",
    "extract voxel responses from seed\n",
    "instead of concatenating the filtered_func, append the concat the voxels TS\n",
    "store each TS in a list, then iterateively create train and test sets by concating different runs\n",
    "\"\"\"\n",
    "\n",
    "seed_ts =[]\n",
    "all_funcs = []\n",
    "\n",
    "ventral_rois = ['LO_toolloc', 'PFS_toolloc']\n",
    "dorsal_rois = ['PPC_spaceloc', 'APC_spaceloc', 'PPC_depthloc', 'APC_depthloc', 'PPC_toolloc', 'APC_toolloc', 'PPC_distloc', 'APC_distloc']]\n",
    "\n",
    "for run in runs:\n",
    "    #load filtered_func and roi and convert to np\n",
    "    curr_run = image.load_img(f'{exp_dir}/run-0{run}/1stLevel.feat/filtered_func_data_reg.nii.gz')\n",
    "    affine = curr_run.affine\n",
    "    curr_run = image.get_data(curr_run)\n",
    "    roi = image.get_data(image.load_img(f'{roi_dir}/{lr}{rr}_peak.nii.gz'))\n",
    "\n",
    "    \n",
    "\n",
    "    #reshape roi and mask the current run\n",
    "    reshaped_roi = np.reshape(roi, (91,109,91,1))\n",
    "    masked_img = reshaped_roi*curr_run\n",
    "\n",
    "    #extract voxel resposnes from within mask\n",
    "    vox_acts = masked_img.reshape(-1, 331) #reshape into rows (voxels) x columns (time)\n",
    "    vox_acts =vox_acts[~np.all(vox_acts == 0, axis=1)] #remove voxels that are 0 (masked out)\n",
    "    vox_acts = np.transpose(vox_acts)\n",
    "    vox_acts = vox_acts[first_fix:, :] #remove first 8 vols\n",
    "\n",
    "    seed_ts.append(vox_acts)\n",
    "\n",
    "#the first index is the position in the list\n",
    "all_ts = np.array(all_ts)\n",
    "\n",
    "       \n",
    "\n"
   ]
  },
  {
   "cell_type": "code",
   "execution_count": null,
   "metadata": {},
   "outputs": [],
   "source": []
  },
  {
   "cell_type": "code",
   "execution_count": 172,
   "metadata": {},
   "outputs": [
    {
     "data": {
      "text/plain": [
       "(323, 8)"
      ]
     },
     "execution_count": 172,
     "metadata": {},
     "output_type": "execute_result"
    }
   ],
   "source": [
    "all_ts[0].shape"
   ]
  },
  {
   "cell_type": "code",
   "execution_count": 173,
   "metadata": {},
   "outputs": [
    {
     "name": "stdout",
     "output_type": "stream",
     "text": [
      "train [1 7 3 0 5 4] test [6 2]\n",
      "train [3 7 0 4 2 5] test [1 6]\n"
     ]
    }
   ],
   "source": [
    "#train/test split in 6 and 2 runs\n",
    "rs = ShuffleSplit(n_splits=1, test_size=.25, random_state=0)\n",
    "\n",
    "#extract data for each split\n",
    "for train_index, test_index in rs.split(runs):\n",
    "    train_runs = all_ts[train_index]\n",
    "    test_runs = all_ts[test_index]\n",
    "\n",
    "    train_data = np.concatenate((train_runs), axis = 0)\n",
    "    test_data = np.concatenate((test_runs), axis = 0)\n",
    "    \n",
    "    n_comp = calc_pc_n(extract_pc(train_data),pc_thresh) #determine number of PCs in train_data using threshold\n",
    "    pca = extract_pc(train_data, n_comp) #conduct PCA one more time with that number of PCs\n",
    "\n",
    "    #\n",
    "    train_seed = pca.transform(train_data) #transform train data in PCs\n",
    "    test_seed = pca.transform(test_data) #transform test data into PCs\n",
    "\n",
    "    #\n",
    "    \n",
    "\n"
   ]
  },
  {
   "cell_type": "code",
   "execution_count": 193,
   "metadata": {},
   "outputs": [],
   "source": [
    "roi_coords = pd.read_csv(f'{roi_dir}/spheres/sphere_coords.csv')\n",
    "curr_coords = roi_coords[(roi_coords['index'] == 0) & (roi_coords['task'] ==\"spaceloc\") & (roi_coords['roi'] ==f'rPPC')]\n",
    "coords = tuple(curr_coords[['x','y','z']].values.tolist()[0])\n",
    "roi_masker = input_data.NiftiSpheresMasker(coords, radius = 6)"
   ]
  },
  {
   "cell_type": "code",
   "execution_count": 194,
   "metadata": {},
   "outputs": [
    {
     "data": {
      "text/plain": [
       "<nilearn.plotting.displays.OrthoSlicer at 0x7f61240652d0>"
      ]
     },
     "execution_count": 194,
     "metadata": {},
     "output_type": "execute_result"
    },
    {
     "data": {
      "image/png": "[encoded data removed]",
      "text/plain": [
       "<Figure size 475.2x187.2 with 4 Axes>"
      ]
     },
     "metadata": {},
     "output_type": "display_data"
    }
   ],
   "source": [
    "plotting.plot_roi(roi_masker., cut_coords=coords)"
   ]
  },
  {
   "cell_type": "code",
   "execution_count": 189,
   "metadata": {},
   "outputs": [
    {
     "data": {
      "text/plain": [
       "'rPPC_spaceloc'"
      ]
     },
     "execution_count": 189,
     "metadata": {},
     "output_type": "execute_result"
    }
   ],
   "source": [
    "f'{lr}{rr}'"
   ]
  },
  {
   "cell_type": "code",
   "execution_count": null,
   "metadata": {},
   "outputs": [],
   "source": [
    "#do PCA on voxel responses\n",
    "\n",
    "\n",
    "    \n",
    "n_comp = calc_pc_n(extract_pc(vox_acts),.9)\n",
    "pca2 = extract_pc(vox_acts, n_comp)\n",
    "model_pcs = pca2.transform(vox_acts)"
   ]
  },
  {
   "cell_type": "code",
   "execution_count": 138,
   "metadata": {},
   "outputs": [
    {
     "data": {
      "text/plain": [
       "(321, 8)"
      ]
     },
     "execution_count": 138,
     "metadata": {},
     "output_type": "execute_result"
    }
   ],
   "source": [
    "vox_acts = vox_acts[10:, :]\n",
    "vox_acts.shape"
   ]
  },
  {
   "cell_type": "code",
   "execution_count": 134,
   "metadata": {},
   "outputs": [
    {
     "data": {
      "text/plain": [
       "(331, 3)"
      ]
     },
     "execution_count": 134,
     "metadata": {},
     "output_type": "execute_result"
    }
   ],
   "source": [
    "model_pcs.shape"
   ]
  },
  {
   "cell_type": "code",
   "execution_count": 115,
   "metadata": {},
   "outputs": [
    {
     "name": "stdout",
     "output_type": "stream",
     "text": [
      "0 0.9992427 0.9992427229881287\n"
     ]
    },
    {
     "data": {
      "image/png": "[encoded data removed]",
      "text/plain": [
       "<Figure size 432x288 with 1 Axes>"
      ]
     },
     "metadata": {
      "needs_background": "light"
     },
     "output_type": "display_data"
    }
   ],
   "source": [
    "explained_variance = pca2.explained_variance_ratio_\n",
    "thresh = .95\n",
    "    \n",
    "var = 0\n",
    "for n_comp, ev in enumerate(explained_variance):\n",
    "    var += ev #add each PC's variance to current variance\n",
    "    print(n_comp, ev, var)\n",
    "\n",
    "    if var >=thresh: #once variance > than thresh, stop\n",
    "        break\n",
    "\n",
    "\n",
    "plt.bar(range(len(explained_variance[0:n_comp])), explained_variance[0:n_comp], alpha=0.5, align='center')\n",
    "plt.ylabel('Variance ratio')\n",
    "plt.xlabel('Principal components')\n",
    "plt.show()"
   ]
  },
  {
   "cell_type": "code",
   "execution_count": 116,
   "metadata": {},
   "outputs": [
    {
     "data": {
      "text/plain": [
       "0.9992427"
      ]
     },
     "execution_count": 116,
     "metadata": {},
     "output_type": "execute_result"
    }
   ],
   "source": [
    "explained_variance[0]"
   ]
  },
  {
   "cell_type": "code",
   "execution_count": 77,
   "metadata": {},
   "outputs": [
    {
     "data": {
      "text/plain": [
       "(425, 331)"
      ]
     },
     "execution_count": 77,
     "metadata": {},
     "output_type": "execute_result"
    }
   ],
   "source": [
    "test.shape"
   ]
  },
  {
   "cell_type": "code",
   "execution_count": 78,
   "metadata": {},
   "outputs": [
    {
     "data": {
      "text/plain": [
       "array([[11566.57  , 11544.778 , 11567.158 , ..., 11574.125 , 11522.791 ,\n",
       "        11607.864 ],\n",
       "       [10523.8125, 10368.75  , 10499.355 , ..., 10608.061 , 10523.553 ,\n",
       "        10554.417 ],\n",
       "       [10637.129 , 10556.656 , 10567.902 , ..., 10605.409 , 10582.474 ,\n",
       "        10675.892 ],\n",
       "       ...,\n",
       "       [11086.221 , 11025.509 , 11049.294 , ..., 11069.007 , 11092.27  ,\n",
       "        11037.554 ],\n",
       "       [11105.062 , 10987.007 , 11027.2295, ..., 11019.044 , 10983.327 ,\n",
       "        10975.02  ],\n",
       "       [10780.583 , 10717.418 , 10742.406 , ..., 10717.839 , 10682.2   ,\n",
       "        10669.751 ]], dtype=float32)"
      ]
     },
     "execution_count": 78,
     "metadata": {},
     "output_type": "execute_result"
    }
   ],
   "source": [
    "test[0:20,:]"
   ]
  },
  {
   "cell_type": "code",
   "execution_count": null,
   "metadata": {},
   "outputs": [],
   "source": []
  }
 ],
 "metadata": {
  "interpreter": {
   "hash": "916856ec24c16ab51d78b3709200ea33364ebc8e6b0aedf4b413156dba8c7e75"
  },
  "kernelspec": {
   "display_name": "Python 3.7.11 64-bit ('brainiak': conda)",
   "name": "python3"
  },
  "language_info": {
   "codemirror_mode": {
    "name": "ipython",
    "version": 3
   },
   "file_extension": ".py",
   "mimetype": "text/x-python",
   "name": "python",
   "nbconvert_exporter": "python",
   "pygments_lexer": "ipython3",
   "version": "3.7.11"
  },
  "orig_nbformat": 4
 },
 "nbformat": 4,
 "nbformat_minor": 2
}
