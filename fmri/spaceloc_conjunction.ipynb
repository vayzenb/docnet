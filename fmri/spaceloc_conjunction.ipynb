{
 "cells": [
  {
   "cell_type": "code",
   "execution_count": null,
   "metadata": {},
   "outputs": [],
   "source": [
    "import pandas as pd\n",
    "from nilearn import image, plotting, input_data, glm\n",
    "#from nilearn.glm import threshold_stats_img\n",
    "import numpy as np\n",
    "\n",
    "from nilearn.input_data import NiftiMasker\n",
    "import nibabel as nib\n",
    "\n",
    "\n",
    "import os\n",
    "import statsmodels.api as sm\n",
    "from nilearn.datasets import load_mni152_brain_mask, load_mni152_template\n",
    "import matplotlib.pyplot as plt\n",
    "import pdb\n",
    "from scipy.stats import gamma\n",
    "import warnings\n",
    "\n",
    "warnings.filterwarnings('ignore')"
   ]
  },
  {
   "cell_type": "code",
   "execution_count": null,
   "metadata": {},
   "outputs": [],
   "source": [
    "#for each sub overlap two cluster masks (and for each individual mask)\n",
    "#set a 1 everywhere they overlap\n",
    "#add it to a global image so you get a count of how many overlaps there are for that conjunction\n",
    "#do binomial on each voxel\n",
    "#make new mask\n"
   ]
  }
 ],
 "metadata": {
  "language_info": {
   "name": "python"
  },
  "orig_nbformat": 4
 },
 "nbformat": 4,
 "nbformat_minor": 2
}
