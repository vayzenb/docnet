{
 "cells": [
  {
   "cell_type": "code",
   "execution_count": 1,
   "metadata": {},
   "outputs": [],
   "source": [
    "import pandas as pd\n",
    "from nilearn import image, plotting, input_data, glm\n",
    "#from nilearn.glm import threshold_stats_img\n",
    "import numpy as np\n",
    "import statsmodels.api as sm\n",
    "from statsmodels.tsa.stattools import grangercausalitytests\n",
    "\n",
    "from nilearn.datasets import load_mni152_brain_mask, load_mni152_template\n",
    "import matplotlib.pyplot as plt\n",
    "import pdb\n",
    "\n",
    "import warnings\n",
    "\n",
    "warnings.filterwarnings('ignore')"
   ]
  },
  {
   "cell_type": "code",
   "execution_count": 2,
   "metadata": {},
   "outputs": [
    {
     "name": "stdout",
     "output_type": "stream",
     "text": [
      "[1001, 1002, 1003, 1004, 1005, 1006, 1007, 1008, 1009, 1010, 1011, 1012]\n"
     ]
    }
   ],
   "source": [
    "#TS need to be standardized first \n",
    "subs = list(range(1001,1013))\n",
    "\n",
    "#subs = list(range(1012,1005, -1))\n",
    "#subs = list(range(1001,1006))\n",
    "print(subs)\n",
    "study ='spaceloc'\n",
    "study_dir = f\"/lab_data/behrmannlab/vlad/{study}\"\n",
    "out_dir = f'{study_dir}/derivatives/fc'\n",
    "results_dir = '/user_data/vayzenbe/GitHub_Repos/docnet/results'\n",
    "exp = 'spaceloc'\n",
    "rois = ['PPC_spaceloc', 'APC_spaceloc', 'PPC_depthloc', 'APC_depthloc', 'PPC_toolloc', 'APC_toolloc', 'PPC_distloc', 'APC_distloc']\n",
    "control_tasks = ['distloc','toolloc','depthloc']\n",
    "\n",
    "'''scan params'''\n",
    "tr = 1\n",
    "vols = 321\n",
    "\n",
    "whole_brain_mask = load_mni152_brain_mask()\n",
    "mni = load_mni152_template()\n",
    "brain_masker = input_data.NiftiMasker(whole_brain_mask,\n",
    "    smoothing_fwhm=0, standardize=True)\n",
    "\n",
    "'''run info'''\n",
    "run_num =6\n",
    "runs = list(range(1,run_num+1))\n",
    "run_combos = []\n",
    "#determine the number of left out run combos\n",
    "for rn1 in range(1,run_num+1):\n",
    "    for rn2 in range(rn1+1,run_num+1):\n",
    "        run_combos.append([rn1,rn2])\n"
   ]
  },
  {
   "cell_type": "code",
   "execution_count": 66,
   "metadata": {},
   "outputs": [
    {
     "data": {
      "text/html": [
       "<div>\n",
       "<style scoped>\n",
       "    .dataframe tbody tr th:only-of-type {\n",
       "        vertical-align: middle;\n",
       "    }\n",
       "\n",
       "    .dataframe tbody tr th {\n",
       "        vertical-align: top;\n",
       "    }\n",
       "\n",
       "    .dataframe thead th {\n",
       "        text-align: right;\n",
       "    }\n",
       "</style>\n",
       "<table border=\"1\" class=\"dataframe\">\n",
       "  <thead>\n",
       "    <tr style=\"text-align: right;\">\n",
       "      <th></th>\n",
       "      <th>index</th>\n",
       "      <th>task</th>\n",
       "      <th>roi</th>\n",
       "      <th>x</th>\n",
       "      <th>y</th>\n",
       "      <th>z</th>\n",
       "    </tr>\n",
       "  </thead>\n",
       "  <tbody>\n",
       "    <tr>\n",
       "      <th>0</th>\n",
       "      <td>0</td>\n",
       "      <td>spaceloc</td>\n",
       "      <td>lPPC</td>\n",
       "      <td>-27.577110</td>\n",
       "      <td>-60.926803</td>\n",
       "      <td>39.877867</td>\n",
       "    </tr>\n",
       "    <tr>\n",
       "      <th>1</th>\n",
       "      <td>0</td>\n",
       "      <td>distloc</td>\n",
       "      <td>lPPC</td>\n",
       "      <td>-20.057185</td>\n",
       "      <td>-76.111330</td>\n",
       "      <td>44.121811</td>\n",
       "    </tr>\n",
       "    <tr>\n",
       "      <th>2</th>\n",
       "      <td>0</td>\n",
       "      <td>toolloc</td>\n",
       "      <td>lPPC</td>\n",
       "      <td>-27.011573</td>\n",
       "      <td>-69.445802</td>\n",
       "      <td>50.593679</td>\n",
       "    </tr>\n",
       "    <tr>\n",
       "      <th>3</th>\n",
       "      <td>0</td>\n",
       "      <td>depthloc</td>\n",
       "      <td>lPPC</td>\n",
       "      <td>-25.909939</td>\n",
       "      <td>-75.853422</td>\n",
       "      <td>36.525090</td>\n",
       "    </tr>\n",
       "    <tr>\n",
       "      <th>4</th>\n",
       "      <td>0</td>\n",
       "      <td>spaceloc</td>\n",
       "      <td>lAPC</td>\n",
       "      <td>-28.103488</td>\n",
       "      <td>-56.093781</td>\n",
       "      <td>38.863286</td>\n",
       "    </tr>\n",
       "    <tr>\n",
       "      <th>...</th>\n",
       "      <td>...</td>\n",
       "      <td>...</td>\n",
       "      <td>...</td>\n",
       "      <td>...</td>\n",
       "      <td>...</td>\n",
       "      <td>...</td>\n",
       "    </tr>\n",
       "    <tr>\n",
       "      <th>265</th>\n",
       "      <td>10</td>\n",
       "      <td>toolloc</td>\n",
       "      <td>rLO</td>\n",
       "      <td>44.770055</td>\n",
       "      <td>-67.589841</td>\n",
       "      <td>-7.180723</td>\n",
       "    </tr>\n",
       "    <tr>\n",
       "      <th>266</th>\n",
       "      <td>11</td>\n",
       "      <td>toolloc</td>\n",
       "      <td>rLO</td>\n",
       "      <td>44.770055</td>\n",
       "      <td>-67.589841</td>\n",
       "      <td>-7.180723</td>\n",
       "    </tr>\n",
       "    <tr>\n",
       "      <th>267</th>\n",
       "      <td>12</td>\n",
       "      <td>toolloc</td>\n",
       "      <td>rLO</td>\n",
       "      <td>44.770055</td>\n",
       "      <td>-67.589841</td>\n",
       "      <td>-7.180723</td>\n",
       "    </tr>\n",
       "    <tr>\n",
       "      <th>268</th>\n",
       "      <td>13</td>\n",
       "      <td>toolloc</td>\n",
       "      <td>rLO</td>\n",
       "      <td>44.770055</td>\n",
       "      <td>-67.589841</td>\n",
       "      <td>-7.180723</td>\n",
       "    </tr>\n",
       "    <tr>\n",
       "      <th>269</th>\n",
       "      <td>14</td>\n",
       "      <td>toolloc</td>\n",
       "      <td>rLO</td>\n",
       "      <td>44.770055</td>\n",
       "      <td>-67.589841</td>\n",
       "      <td>-7.180723</td>\n",
       "    </tr>\n",
       "  </tbody>\n",
       "</table>\n",
       "<p>270 rows × 6 columns</p>\n",
       "</div>"
      ],
      "text/plain": [
       "     index      task   roi          x          y          z\n",
       "0        0  spaceloc  lPPC -27.577110 -60.926803  39.877867\n",
       "1        0   distloc  lPPC -20.057185 -76.111330  44.121811\n",
       "2        0   toolloc  lPPC -27.011573 -69.445802  50.593679\n",
       "3        0  depthloc  lPPC -25.909939 -75.853422  36.525090\n",
       "4        0  spaceloc  lAPC -28.103488 -56.093781  38.863286\n",
       "..     ...       ...   ...        ...        ...        ...\n",
       "265     10   toolloc   rLO  44.770055 -67.589841  -7.180723\n",
       "266     11   toolloc   rLO  44.770055 -67.589841  -7.180723\n",
       "267     12   toolloc   rLO  44.770055 -67.589841  -7.180723\n",
       "268     13   toolloc   rLO  44.770055 -67.589841  -7.180723\n",
       "269     14   toolloc   rLO  44.770055 -67.589841  -7.180723\n",
       "\n",
       "[270 rows x 6 columns]"
      ]
     },
     "execution_count": 66,
     "metadata": {},
     "output_type": "execute_result"
    }
   ],
   "source": [
    "def make_psy_cov(runs,ss):\n",
    "    sub_dir = f'{study_dir}/sub-{study}{ss}/ses-01/'\n",
    "    cov_dir = f'{sub_dir}/covs'\n",
    "    times = np.arange(0, vols*len(runs), tr)\n",
    "    full_cov = pd.DataFrame(columns = ['onset','duration', 'value'])\n",
    "    for rn, run in enumerate(runs):    \n",
    "        \n",
    "        curr_cov = pd.read_csv(f'{cov_dir}/SpaceLoc_{study}{ss}_Run{run}_SA.txt', sep = '\\t', header = None, names = ['onset','duration', 'value'])\n",
    "        #contrasting (neg) cov\n",
    "\n",
    "        curr_cont = pd.read_csv(f'{cov_dir}/SpaceLoc_{study}{ss}_Run{run}_FT.txt', sep = '\\t', header =None, names =['onset','duration', 'value'])\n",
    "        curr_cont.iloc[:,2] = curr_cont.iloc[:,2] *-1 #make contrasting cov neg\n",
    "        \n",
    "        curr_cov = curr_cov.append(curr_cont) #append to positive\n",
    "\n",
    "        curr_cov['onset'] = curr_cov['onset'] + (vols*rn)\n",
    "        full_cov = full_cov.append(curr_cov)\n",
    "        #add number of vols to the timing cols based on what run you are on\n",
    "        #e.g., for run 1, add 0, for run 2, add 321\n",
    "        #curr_cov['onset'] = curr_cov['onset'] + ((rn_n)*vols) \n",
    "        #pdb.set_trace()\n",
    "        \n",
    "        #append to concatenated cov\n",
    "    full_cov = full_cov.sort_values(by =['onset'])\n",
    "    cov = full_cov.to_numpy()\n",
    "\n",
    "    #convolve to hrf\n",
    "    psy, name = glm.first_level.compute_regressor(cov.T, 'spm', times)\n",
    "        \n",
    "\n",
    "    return psy"
   ]
  },
  {
   "cell_type": "code",
   "execution_count": 2,
   "metadata": {},
   "outputs": [],
   "source": [
    "def extract_roi_sphere(img, coords):\n",
    "    roi_masker = input_data.NiftiSpheresMasker([tuple(coords)], radius = 6)\n",
    "    seed_time_series = roi_masker.fit_transform(img)\n",
    "    \n",
    "    phys = np.mean(seed_time_series, axis= 1)\n",
    "    #phys = (phys - np.mean(phys)) / np.std(phys) #TRY WITHOUT STANDARDIZING AT SOME POINT\n",
    "    phys = phys.reshape((phys.shape[0],1))\n",
    "    \n",
    "    return phys"
   ]
  },
  {
   "cell_type": "code",
   "execution_count": 61,
   "metadata": {},
   "outputs": [],
   "source": [
    "ss = 1001\n",
    "tsk = 'spaceloc'\n",
    "roi1 = 'rPPC'\n",
    "roi2 = 'rLO'\n"
   ]
  },
  {
   "cell_type": "code",
   "execution_count": 84,
   "metadata": {},
   "outputs": [],
   "source": [
    "sub_dir = f'{study_dir}/sub-{study}{ss}/ses-01/'\n",
    "cov_dir = f'{sub_dir}/covs'\n",
    "roi_dir = f'{sub_dir}/derivatives/rois'\n",
    "exp_dir = f'{sub_dir}/derivatives/fsl/{exp}'\n",
    "\n",
    "roi_coords = pd.read_csv(f'{roi_dir}/spheres/sphere_coords.csv')\n",
    "\n",
    "curr_run = image.load_img(f'{exp_dir}/run-03/1stLevel.feat/filtered_func_data_reg.nii.gz')\n",
    "curr_run = image.clean_img(curr_run,standardize=True)\n",
    "\n",
    "img4d = curr_run"
   ]
  },
  {
   "cell_type": "code",
   "execution_count": 85,
   "metadata": {},
   "outputs": [],
   "source": [
    "ppc_coord = roi_coords[(roi_coords['index'] == 0) & (roi_coords['task'] =='spaceloc') & (roi_coords['roi'] =='rPPC')]\n",
    "lo_coord= roi_coords[(roi_coords['index'] == 0) & (roi_coords['task'] =='toolloc') & (roi_coords['roi'] =='rLO')]\n"
   ]
  },
  {
   "cell_type": "code",
   "execution_count": 86,
   "metadata": {},
   "outputs": [],
   "source": [
    "\n",
    "ppc_ts = extract_roi_sphere(img4d,ppc_coord[['x','y','z']].values.tolist()[0])\n",
    "lo_ts = extract_roi_sphere(img4d,lo_coord[['x','y','z']].values.tolist()[0])\n",
    "data = pd.DataFrame(columns = ['ppc', 'lo'])\n",
    "data['lo'] = np.squeeze(lo_ts)\n",
    "data['ppc'] = np.squeeze(ppc_ts)\n"
   ]
  },
  {
   "cell_type": "code",
   "execution_count": 87,
   "metadata": {},
   "outputs": [
    {
     "name": "stdout",
     "output_type": "stream",
     "text": [
      "\n",
      "Granger Causality\n",
      "number of lags (no zero) 1\n",
      "ssr based F test:         F=5.5046  , p=0.0196  , df_denom=317, df_num=1\n",
      "ssr based chi2 test:   chi2=5.5567  , p=0.0184  , df=1\n",
      "likelihood ratio test: chi2=5.5090  , p=0.0189  , df=1\n",
      "parameter F test:         F=5.5046  , p=0.0196  , df_denom=317, df_num=1\n"
     ]
    }
   ],
   "source": [
    "gc_res = grangercausalitytests(data[['lo','ppc']], 1)"
   ]
  },
  {
   "cell_type": "code",
   "execution_count": 88,
   "metadata": {},
   "outputs": [
    {
     "name": "stdout",
     "output_type": "stream",
     "text": [
      "\n",
      "Granger Causality\n",
      "number of lags (no zero) 1\n",
      "ssr based F test:         F=4.0220  , p=0.0458  , df_denom=317, df_num=1\n",
      "ssr based chi2 test:   chi2=4.0600  , p=0.0439  , df=1\n",
      "likelihood ratio test: chi2=4.0345  , p=0.0446  , df=1\n",
      "parameter F test:         F=4.0220  , p=0.0458  , df_denom=317, df_num=1\n"
     ]
    }
   ],
   "source": [
    "gc_res = grangercausalitytests(data[['ppc','lo']], 1)"
   ]
  },
  {
   "cell_type": "code",
   "execution_count": 89,
   "metadata": {},
   "outputs": [
    {
     "data": {
      "text/plain": [
       "[<matplotlib.lines.Line2D at 0x7ff3ab481a00>]"
      ]
     },
     "execution_count": 89,
     "metadata": {},
     "output_type": "execute_result"
    },
    {
     "data": {
      "image/png": "[encoded data removed]",
      "text/plain": [
       "<Figure size 432x288 with 1 Axes>"
      ]
     },
     "metadata": {
      "needs_background": "light"
     },
     "output_type": "display_data"
    }
   ],
   "source": [
    "plt.plot(ppc_ts)\n",
    "plt.plot(lo_ts)"
   ]
  },
  {
   "cell_type": "code",
   "execution_count": null,
   "metadata": {},
   "outputs": [],
   "source": []
  },
  {
   "cell_type": "code",
   "execution_count": null,
   "metadata": {},
   "outputs": [],
   "source": [
    "for ss in subs:\n",
    "        print(ss)\n",
    "        sub_dir = f'{study_dir}/sub-{study}{ss}/ses-01/'\n",
    "        cov_dir = f'{sub_dir}/covs'\n",
    "        roi_dir = f'{sub_dir}/derivatives/rois'\n",
    "        exp_dir = f'{sub_dir}/derivatives/fsl/{exp}'\n",
    "\n",
    "        roi_coords = pd.read_csv(f'{roi_dir}/spheres/sphere_coords.csv')\n",
    "\n",
    "        for tsk in ['spaceloc']:\n",
    "            for rr in ['rPPC']:\n",
    "                all_runs = [] #this will get filled with the data from each run\n",
    "                for rcn, rc in enumerate(run_combos): #determine which runs to use for creating ROIs\n",
    "                    curr_coords = roi_coords[(roi_coords['index'] == rcn) & (roi_coords['task'] ==tsk) & (roi_coords['roi'] ==rr)]\n",
    "\n",
    "                    filtered_list = []\n",
    "                    for rn in rc:\n",
    "                        \n",
    "                        curr_run = image.load_img(f'{exp_dir}/run-0{rn}/1stLevel.feat/filtered_func_data_reg.nii.gz')\n",
    "                        curr_run = image.clean_img(curr_run,standardize=True)\n",
    "                        filtered_list.append(curr_run)"
   ]
  },
  {
   "cell_type": "code",
   "execution_count": 65,
   "metadata": {},
   "outputs": [],
   "source": [
    "\n",
    "\"\"\"\n",
    "Add LO to the ROI coords file\n",
    "\"\"\"\n",
    "parcels = ['LO']\n",
    "\n",
    "for ss in subs:\n",
    "    sub_dir = f'{study_dir}/sub-{study}{ss}/ses-01'\n",
    "    roi_dir = f'{sub_dir}/derivatives/rois'\n",
    "    exp_dir = f'{sub_dir}/derivatives/fsl'\n",
    "    parcel_dir = f'{roi_dir}/parcels'\n",
    "    roi_coords = pd.read_csv(f'{roi_dir}/spheres/sphere_coords.csv')\n",
    "    roi_coords = roi_coords[roi_coords['roi'] != 'lLO']\n",
    "    roi_coords = roi_coords[roi_coords['roi'] != 'rLO']\n",
    "    \n",
    "    \n",
    "    \n",
    "    for lr in ['l','r']:\n",
    "        for pr in parcels:\n",
    "            #load parcel\n",
    "            roi = image.load_img(f'{parcel_dir}/{lr}{pr}.nii.gz')\n",
    "            roi = image.math_img('img > 0', img=roi)\n",
    "\n",
    "            control_zstat = image.load_img(f'{exp_dir}/toolloc/HighLevel_roi.gfeat/cope5.feat/stats/zstat1.nii.gz')\n",
    "            coords = plotting.find_xyz_cut_coords(control_zstat,mask_img=roi, activation_threshold = .99)\n",
    "\n",
    "            for rn in range(0,15):\n",
    "                curr_coords = pd.Series([rn, 'toolloc', f'{lr}{pr}'] + coords, index=roi_coords.columns)\n",
    "                roi_coords = roi_coords.append(curr_coords,ignore_index = True)\n",
    "\n",
    "    roi_coords.to_csv(f'{roi_dir}/spheres/sphere_coords.csv', index=False)"
   ]
  }
 ],
 "metadata": {
  "interpreter": {
   "hash": "4973e9ecea6e1bee6a1dc5ee48c4d9ad054d2000569fe29eff9389f8289fb1b5"
  },
  "kernelspec": {
   "display_name": "Python 3.8.12 64-bit ('fmri': conda)",
   "language": "python",
   "name": "python3"
  },
  "language_info": {
   "codemirror_mode": {
    "name": "ipython",
    "version": 3
   },
   "file_extension": ".py",
   "mimetype": "text/x-python",
   "name": "python",
   "nbconvert_exporter": "python",
   "pygments_lexer": "ipython3",
   "version": "3.8.12"
  },
  "orig_nbformat": 4
 },
 "nbformat": 4,
 "nbformat_minor": 2
}
